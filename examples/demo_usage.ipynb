{
 "cells": [
  {
   "cell_type": "markdown",
   "metadata": {
    "collapsed": true
   },
   "source": [
    "# morphofit example usage notebook"
   ]
  },
  {
   "cell_type": "markdown",
   "metadata": {},
   "source": [
    "In this notebook, we provide examples on how to run morphofit on a set of two simulated HST images mimicking the MACS J1149.5+2223 observational conditions in the Frontier Fields survey in the F814W and F160W wavebands.\n",
    "\n",
    "morphofit is designed to be ran via command-line using esub-epipe. It can also be run in a notebook either by calling the scripts in the `main_functions` folder with `subprocess` or by calling the individual functions or the main function of the scripts in the notebook cells.\n",
    "\n",
    "In order to run it, the user should create a folder named as the `target_name`, e.g. macs1149. All initial and produced data are going to be stored in this folder. The user should also rename images following the naming convention:\n",
    "\n",
    "`telescopename_targetname_waveband_imagetype.fits`\n",
    "\n",
    "e.g. HST_macs1149_f814_drz.fit\n",
    "\n",
    "See the folder `demo_data` for an example."
   ]
  },
  {
   "cell_type": "markdown",
   "metadata": {},
   "source": [
    "__The example commands on how to run the morphofit modules in the terminal are stored in the `pipeline.yaml` file in the `main_functions` folder__"
   ]
  },
  {
   "cell_type": "code",
   "execution_count": null,
   "metadata": {},
   "outputs": [],
   "source": [
    "import subprocess\n",
    "import os\n",
    "from astropy.table import Table, Column\n",
    "import numpy as np"
   ]
  },
  {
   "cell_type": "markdown",
   "metadata": {},
   "source": [
    "### How to use morphofit to run SExtractor in forced photometry mode on all provided images in all wavebands"
   ]
  },
  {
   "cell_type": "markdown",
   "metadata": {},
   "source": [
    "SExtractor does not come pre-packaged with _morphofit_, but it needs to be installed separately.\n",
    "\n",
    "One way to do this is by using _brew_ https://formulae.brew.sh/formula/sextractor"
   ]
  },
  {
   "cell_type": "code",
   "execution_count": null,
   "metadata": {},
   "outputs": [],
   "source": [
    "mode = 'run-tasks' # whether to run the script in serial (run) or in parallel (run-tasks, run-mpi)\n",
    "tasks = '0>1' # total number of jobs to run, e.g. '0>3' is the syntax for running SExtractor on\n",
    "              # three different galaxy clusters. Since we have one cluster example, tasks is just 0>1\n",
    "              # in the case of galfit fit on stamps, the number of tasks is given by \n",
    "              # n_target_galaxies * n_bands * n_combinations_background_sigmaimage_psf\n",
    "root_path = './demo_data/'# Path to root folder where data are stored and where code is run\n",
    "wavebands_list = 'f814w,f160w' # string of comma-separated waveband names\n",
    "h5pytable_folder = './demo_data/h5table/' # path to folder where the hdf5 table with parameters relevant for \n",
    "                                          # morphofit are stored\n",
    "h5pytable_prefix = 'sextractor_run_table' # filename prefix of hdf5 table storing parameters relevant for morphofit \n",
    "telescope_name = 'HST' # name of the telescope/instrument/survey data used\n",
    "target_field_names = 'macs1149' # name of the target to analyse, it has to be the same as targetname\n",
    "sci_images_suffix = 'drz.fits' # it has to be the same as imagetype.fits and represent the suffix with which \n",
    "                               # we define the science image\n",
    "rms_images_suffix = 'rms.fits' # it has to be the same as imagetype.fits and represent the suffix with which \n",
    "                               # we define the root mean square image, if unavailable set it to 'None'\n",
    "exp_images_suffix = 'exp.fits' # it has to be the same as imagetype.fits and represent the suffix with which \n",
    "                               # we define the exposure time image, if unavailable set it to 'None'\n",
    "init_ext_star_cat_suffix = 'star_positions.fits' # suffix of the fits table storing the star positions in the image\n",
    "image_archive_prefix = 'images' # filename prefix of the generated tar file containing images\n",
    "resources_archive_prefix = 'res_sextractor_files' # filename prefix of the generated tar file containing res files\n",
    "star_catalogues_path = './demo_data/star_catalogues/' # path to star catalogues folder, a first guess for the star catalogue should be provided by the user\n",
    "pixel_scale = 0.060 # pixel scale in arcsec/pixel\n",
    "psf_fwhm_init_guesses = '0.1,0.1' # initial guesses for the seeing FWHM in arcsec, e.g. 0.1 arcsec for HST\n",
    "sextractor_binary_filename = '/opt/homebrew/bin/sex' # path to SExtractor executable\n",
    "# from detect_minarea to sextractor_checkimages_endings, the parameters have the same meaning\n",
    "# of the corresponding SExtractor ones\n",
    "sextractor_resources_path = '../morphofit/res/sextractor/' # path to folder storing SExtractor required files\n",
    "function = 'all' # it can be all, main, check_missing and merge\n",
    "n_cores = os.cpu_count() # number of available CPU for parallel computing\n",
    "\n",
    "subprocess.run(['esub', '../main_functions/create_table_for_sextractor.py', '--mode={}'.format(mode), \n",
    "                '--tasks={}'.format(tasks), '--root_path={}'.format(root_path),\n",
    "                '--wavebands_list={}'.format(wavebands_list),\n",
    "                '--h5pytable_folder={}'.format(h5pytable_folder),\n",
    "                '--h5pytable_prefix={}'.format(h5pytable_prefix),\n",
    "                '--telescope_name={}'.format(telescope_name),\n",
    "                '--target_field_names={}'.format(target_field_names),\n",
    "                '--sci_images_suffix={}'.format(sci_images_suffix),\n",
    "                '--rms_images_suffix={}'.format(rms_images_suffix),\n",
    "                '--exp_images_suffix={}'.format(exp_images_suffix),\n",
    "                '--ext_star_cat_suffix={}'.format(init_ext_star_cat_suffix),\n",
    "                '--image_archive_prefix={}'.format(image_archive_prefix),\n",
    "                '--resources_archive_prefix={}'.format(resources_archive_prefix),\n",
    "                '--star_catalogues_path={}'.format(star_catalogues_path),\n",
    "                '--pixel_scale={}'.format(pixel_scale), '--psf_fwhm_init_guesses={}'.format(psf_fwhm_init_guesses),\n",
    "                '--detect_minarea=10', '--detect_thresh=1.0', '--analysis_thresh=1.5', '--deblend_nthresh=64',\n",
    "                '--deblend_mincont=0.0001', '--phot_apertures=3,5,8,10,13,15,18,20,23,25,28,30',\n",
    "                '--phot_autoparams=2.5,3.5', '--phot_petroparams=2.0,3.5', '--phot_autoapers=0.0,0.0',\n",
    "                '--phot_fluxfrac=0.5', '--back_size=64', '--back_filtersize=3',\n",
    "                '--sextractor_binary_filename={}'.format(sextractor_binary_filename),\n",
    "                '--sextractor_config_filename=default.sex', '--sextractor_params_filename=default.param',\n",
    "                '--sextractor_filter_filename=gauss_3.0_5x5.conv', '--sextractor_nnw_filename=default.nnw',\n",
    "                '--sextractor_checkimages=SEGMENTATION', '--sextractor_checkimages_endings=seg',\n",
    "                '--sextractor_resources_path={}'.format(sextractor_resources_path),\n",
    "                '--function={}'.format(function), '--n_cores={}'.format(n_cores)\n",
    "                ])\n"
   ]
  },
  {
   "cell_type": "code",
   "execution_count": null,
   "metadata": {},
   "outputs": [],
   "source": [
    "temp_dir_path = './demo_data/' # temporary folders location where morphofit single core jobs are run\n",
    "local_or_cluster = 'local' # it can be either local or cluster, set it to local for own machine use, cluster for facilities using Slurm as scheduler\n",
    "sextractor_forced_catalogue_suffix = 'forced.cat' # user-defined suffix for the single-band output SExtractor catalogue\n",
    "sextractor_ra_keyword = 'ALPHAWIN_J2000' # right ascension column name to be used to match galaxies across bands\n",
    "sextractor_dec_keyword = 'DELTAWIN_J2000' # declination column name to be used to match galaxies across bands\n",
    "star_catalogue_ra_keyword = 'ALPHAWIN_J2000' # right ascension column name to be used to find stars in images and measure \n",
    "                                 # their profile FWHM\n",
    "star_catalogue_dec_keyword = 'DELTAWIN_J2000' # declination column name to be used to find stars in images and measure \n",
    "                                   # their profile FWHM\n",
    "detection_image_suffix = 'detection.fits' # suffix of the generated detection image\n",
    "parameters_table_suffix = 'param_table.fits' # suffix of the fits table storing obtained instrumental and \n",
    "                                             # observational parameters\n",
    "multiband_catalogue_suffix = 'multiband.forced.cat' # user-defined suffix for the multiband output SExtractor catalogue\n",
    "\n",
    "subprocess.run(['esub', '../main_functions/main_sextractor.py', '--mode={}'.format(mode), \n",
    "                '--tasks={}'.format(tasks), '--root_path={}'.format(root_path),\n",
    "                '--h5pytable_folder={}'.format(h5pytable_folder),\n",
    "                '--h5pytable_prefix={}'.format(h5pytable_prefix),\n",
    "                '--image_archive_prefix={}'.format(image_archive_prefix),\n",
    "                '--resources_archive_prefix={}'.format(resources_archive_prefix),\n",
    "                '--temp_dir_path={}'.format(temp_dir_path),\n",
    "                '--local_or_cluster={}'.format(local_or_cluster),\n",
    "                '--sextractor_forced_catalogue_suffix={}'.format(sextractor_forced_catalogue_suffix),\n",
    "                '--sextractor_checkimages_endings=seg',\n",
    "                '--sextractor_ra_keyword={}'.format(sextractor_ra_keyword),\n",
    "                '--sextractor_dec_keyword={}'.format(sextractor_dec_keyword),\n",
    "                '--star_catalogue_ra_keyword={}'.format(star_catalogue_ra_keyword),\n",
    "                '--star_catalogue_dec_keyword={}'.format(star_catalogue_dec_keyword),\n",
    "                '--detection_image_suffix={}'.format(detection_image_suffix),\n",
    "                '--parameters_table_suffix={}'.format(parameters_table_suffix),\n",
    "                '--multiband_catalogue_suffix={}'.format(multiband_catalogue_suffix),\n",
    "                '--function={}'.format(function), '--n_cores={}'.format(n_cores)\n",
    "                ])"
   ]
  },
  {
   "cell_type": "markdown",
   "metadata": {},
   "source": [
    "### How to use morphofit to create PSF images"
   ]
  },
  {
   "cell_type": "markdown",
   "metadata": {},
   "source": [
    "Before creating the PSF images for GALFIT, the user needs to generate a star catalogue for each waveband that needs to be fitted. One way to do this is by exploiting the _HST_macs1149_multiband.forced.cat_ to select high signal-to-noise, non-saturated, isolated stars."
   ]
  },
  {
   "cell_type": "code",
   "execution_count": null,
   "metadata": {},
   "outputs": [],
   "source": [
    "mode = 'run' # whether to run the script in serial (run) or in parallel (run-tasks, run-mpi)\n",
    "tasks = '0>1'\n",
    "root_path = './demo_data/'\n",
    "h5pytable_folder = './demo_data/h5table/'\n",
    "h5pytable_prefix = 'table_psf_creation'\n",
    "wavebands_list = 'f814w,f160w'\n",
    "target_field_names = 'macs1149'\n",
    "parameters_table_suffix = 'param_table.fits' # suffix of the table containing the image parameters measured in the previous module\n",
    "sci_images_suffix = 'drz.fits'\n",
    "image_archive_prefix = 'images_for_psf' # filename prefix of the generated tar file containing images\n",
    "resources_archive_prefix = 'res_psf_files' # filename prefix of the generated tar file containing res files\n",
    "ext_star_cat_suffix = 'star_positions.fits' # suffix of the fits table storing the star positions in the image\n",
    "star_catalogues_path = './demo_data/star_catalogues/' # path to star catalogues folder\n",
    "psf_image_size = 50 # the psf image is assumed to be squared\n",
    "pixel_scale = 0.060 # pixel scale in arcsec/pixel\n",
    "function = 'all'\n",
    "n_cores = 1\n",
    "\n",
    "subprocess.run(['esub', '../main_functions/create_table_for_psf_images_per_target_field.py',\n",
    "                '--mode={}'.format(mode), \n",
    "                '--tasks={}'.format(tasks), '--root_path={}'.format(root_path),\n",
    "                '--h5pytable_folder={}'.format(h5pytable_folder),\n",
    "                '--h5pytable_prefix={}'.format(h5pytable_prefix),\n",
    "                '--wavebands_list={}'.format(wavebands_list),\n",
    "                '--target_field_names={}'.format(target_field_names),\n",
    "                '--parameters_table_suffix={}'.format(parameters_table_suffix),\n",
    "                '--sci_images_suffix={}'.format(sci_images_suffix),\n",
    "                '--image_archive_prefix={}'.format(image_archive_prefix),\n",
    "                '--resources_archive_prefix={}'.format(resources_archive_prefix),\n",
    "                '--ext_star_cat_suffix={}'.format(ext_star_cat_suffix),\n",
    "                '--star_catalogues_path={}'.format(star_catalogues_path),\n",
    "                '--psf_image_size={}'.format(psf_image_size),\n",
    "                '--pixel_scale={}'.format(pixel_scale),\n",
    "                '--function={}'.format(function), '--n_cores={}'.format(n_cores)\n",
    "                ])"
   ]
  },
  {
   "cell_type": "code",
   "execution_count": null,
   "metadata": {},
   "outputs": [],
   "source": [
    "mode = 'run-tasks' # whether to run the script in serial (run) or in parallel (run-tasks, run-mpi)\n",
    "tasks = '0>1' # total number of jobs to run, e.g. '0>3' is the syntax for running the PSF estimation on\n",
    "              # three different galaxy clusters. Since we have one cluster example, tasks is just 0>1\n",
    "h5pytable_folder = './demo_data/h5table/'\n",
    "h5pytable_prefix = 'table_psf_creation'\n",
    "temp_dir_path = './demo_data/'\n",
    "image_archive_prefix = 'images_for_psf' # filename prefix of the generated tar file containing images\n",
    "resources_archive_prefix = 'res_psf_files' # filename prefix of the generated tar file containing res files\n",
    "local_or_cluster = 'local'\n",
    "psf_methods = 'moffat,observed,pca' # types of psf estimation methods, available are moffat,observed,pca,effective(HST only)\n",
    "star_catalogue_x_keyword = 'XWIN_IMAGE_f814w' # x keyword in the star catalogue containing the stars pixel positions\n",
    "star_catalogue_y_keyword = 'YWIN_IMAGE_f814w' # y keyword in the star catalogue containing the stars pixel positions\n",
    "function = 'all'\n",
    "n_cores = 1\n",
    "\n",
    "subprocess.run(['esub', '../main_functions/main_create_psf_images_per_target_field.py',\n",
    "                '--mode={}'.format(mode), \n",
    "                '--tasks={}'.format(tasks),\n",
    "                '--h5pytable_folder={}'.format(h5pytable_folder),\n",
    "                '--h5pytable_prefix={}'.format(h5pytable_prefix),\n",
    "                '--temp_dir_path={}'.format(temp_dir_path),\n",
    "                '--image_archive_prefix={}'.format(image_archive_prefix),\n",
    "                '--resources_archive_prefix={}'.format(resources_archive_prefix),\n",
    "                '--local_or_cluster={}'.format(local_or_cluster),\n",
    "                '--psf_methods={}'.format(psf_methods),\n",
    "                '--star_catalogue_x_keyword={}'.format(star_catalogue_x_keyword),\n",
    "                '--star_catalogue_y_keyword={}'.format(star_catalogue_y_keyword),\n",
    "                '--function={}'.format(function), '--n_cores={}'.format(n_cores)\n",
    "                ])"
   ]
  },
  {
   "cell_type": "markdown",
   "metadata": {},
   "source": [
    "### How to use morphofit to run GALFIT on stamps"
   ]
  },
  {
   "cell_type": "markdown",
   "metadata": {},
   "source": [
    "GALFIT does not come pre-packaged with _morphofit_, but it needs to be downloaded from https://users.obs.carnegiescience.edu/peng/work/galfit/galfit.html"
   ]
  },
  {
   "cell_type": "markdown",
   "metadata": {},
   "source": [
    "This part requires a target catalogue and a sources catalogue. The former contains the information about the relevant sources for which we want to estimate the structural parameters. The latter contains all the other sources such that neighbouring objects are fitted simultaneously.\n",
    "\n",
    "One possible selection could be to define as targets all galaxies having MAG_AUTO_f814<=22.5, while defining as sources all galaxies having 22.5<MAG_AUTO_f814w<27."
   ]
  },
  {
   "cell_type": "code",
   "execution_count": null,
   "metadata": {},
   "outputs": [],
   "source": [
    "root = './demo_data/macs1149/'\n",
    "m1149_se_cat = Table.read(os.path.join(root, 'HST_macs1149_multiband.forced.cat'))\n",
    "target_mask = np.where((m1149_se_cat['MAG_AUTO_f814w']<=22.5)&(m1149_se_cat['CLASS_STAR_f814w']<0.95))\n",
    "sources_mask = np.where((m1149_se_cat['MAG_AUTO_f814w']>22.5)&(m1149_se_cat['MAG_AUTO_f814w']<27)&\n",
    "                        (m1149_se_cat['CLASS_STAR_f814w']<0.95))\n",
    "m1149_se_cat[target_mask][2:3].write(os.path.join(root, 'HST_macs1149_multiband_targets.cat'), format='fits',\n",
    "                                overwrite=True) # we select only one object for the sake of speed\n",
    "m1149_se_cat[sources_mask].write(os.path.join(root, 'HST_macs1149_multiband_sources.cat'), format='fits',\n",
    "                                overwrite=True)"
   ]
  },
  {
   "cell_type": "markdown",
   "metadata": {},
   "source": [
    "Once the two catalogues have been created by the user, the columns 'SERSIC_INDEX', 'TOFIT', 'LIGHT_PROFILE' and 'COMPONENT_NUMBER' needs to be appended to both catalogues:\n",
    "- *SERSIC_INDEX_{}*.format(waveband), initial values of the Sersic indices for the fit with GALFIT\n",
    "\n",
    "- *TOFIT_{}*.format(waveband),  whether we want to fit that source or keep its values fixed\n",
    "\n",
    "- *LIGHT_PROFILE_{}*.format(waveband),  the type of light profile we would like to fit (sersic,devauc,expdisk)\n",
    "\n",
    "- *COMPONENT_NUMBER*, the integer index denoting the specific component we are fitting to the source. If, e.g. we do a bulge plus disk decomposition, each source will have two rows in the table, one with COMPONENT_NUMBER=0 and LIGHT_PROFILE=devauc, and the other with COMPONENT_NUMBER=1 and LIGHT_PROFILE=expdisk. "
   ]
  },
  {
   "cell_type": "code",
   "execution_count": null,
   "metadata": {},
   "outputs": [],
   "source": [
    "root = './demo_data/macs1149/'\n",
    "target_cat = Table.read(os.path.join(root, 'HST_macs1149_multiband_targets.cat'), format='fits')\n",
    "source_cat = Table.read(os.path.join(root, 'HST_macs1149_multiband_sources.cat'), format='fits')\n",
    "\n",
    "wavebands = ['f814w', 'f160w']\n",
    "for waveband in wavebands:\n",
    "    c = Column(np.full(len(target_cat), 2.5), name='SERSIC_INDEX_{}'.format(waveband))\n",
    "    target_cat.add_column(c)\n",
    "    c = Column(np.full(len(source_cat), 2.5), name='SERSIC_INDEX_{}'.format(waveband))\n",
    "    source_cat.add_column(c)\n",
    "    c = Column(np.full(len(target_cat), 1, dtype=int), name='TOFIT_{}'.format(waveband))\n",
    "    target_cat.add_column(c)\n",
    "    c = Column(np.full(len(source_cat), 1, dtype=int), name='TOFIT_{}'.format(waveband))\n",
    "    source_cat.add_column(c)\n",
    "    c = Column(np.full(len(target_cat), 'sersic', dtype='U6'), name='LIGHT_PROFILE_{}'.format(waveband))\n",
    "    target_cat.add_column(c)\n",
    "    c = Column(np.full(len(source_cat), 'sersic', dtype='U6'), name='LIGHT_PROFILE_{}'.format(waveband))\n",
    "    source_cat.add_column(c)\n",
    "    \n",
    "c = Column(np.full(len(target_cat), 0, dtype=int), name='COMPONENT_NUMBER')\n",
    "target_cat.add_column(c)\n",
    "c = Column(np.full(len(source_cat), 0, dtype=int), name='COMPONENT_NUMBER')\n",
    "source_cat.add_column(c)\n",
    "    \n",
    "target_cat.write(os.path.join(root, 'HST_macs1149_multiband_targets.cat'), format='fits', overwrite=True)\n",
    "source_cat.write(os.path.join(root, 'HST_macs1149_multiband_sources.cat'), format='fits', overwrite=True)\n"
   ]
  },
  {
   "cell_type": "code",
   "execution_count": null,
   "metadata": {},
   "outputs": [],
   "source": [
    "mode = 'run' \n",
    "tasks = '0>1'\n",
    "root_path = './demo_data/'\n",
    "h5pytable_folder = './demo_data/h5table/'\n",
    "h5pytable_filename = 'table_galfit_on_stamps_run.h5'\n",
    "telescope_name = 'HST'\n",
    "target_field_names = 'macs1149'\n",
    "wavebands_list = 'f814w,f160w'\n",
    "psf_image_types_list='moffat_psf,observed_psf,pca_psf' # types of psf estimation methods, available are moffat,observed,pca,effective(HST only)\n",
    "sigma_image_types_list='custom_sigma_image,internal_generated_sigma_image' # types of sigma image generation methods, available are custom_sigma_image,internal_generated_sigma_image\n",
    "background_estimate_methods_list='background_free_fit,background_fixed_value' # types of background estimation methods, available are background_free_fit,background_fixed_value\n",
    "enlarging_image_factor=20 # factor by which the stamp around the galaxy is enlarged as function of the target galaxy effective radius \n",
    "enlarging_separation_factor=10 # if a neighbouring galaxy is closer to the target than this factor times the target galaxy effective radius, then the neighbouring galaxy is simultaneously fit\n",
    "pixel_scale = 0.060\n",
    "convolution_box_size=256\n",
    "galfit_binary_file='/usr/local/bin/galfit' # user-dependent\n",
    "target_galaxies_catalogue_suffix='multiband_targets.cat'\n",
    "target_galaxies_id_key='NUMBER'\n",
    "source_galaxies_catalogue_suffix='multiband_sources.cat'\n",
    "parameters_table_suffix = 'param_table.fits'\n",
    "sci_images_suffix = 'drz.fits'\n",
    "rms_images_suffix = 'rms.fits' \n",
    "exp_images_suffix = 'exp.fits'\n",
    "seg_images_suffix = 'drz.forced_seg.fits'\n",
    "function = 'main'\n",
    "n_cores = 1\n",
    "\n",
    "subprocess.run(['esub', '../main_functions/create_table_for_galfit_stamps.py',\n",
    "                '--mode={}'.format(mode), \n",
    "                '--tasks={}'.format(tasks), '--root_path={}'.format(root_path),\n",
    "                '--h5pytable_folder={}'.format(h5pytable_folder),\n",
    "                '--h5pytable_filename={}'.format(h5pytable_filename),\n",
    "                '--telescope_name={}'.format(telescope_name),\n",
    "                '--target_field_names={}'.format(target_field_names),\n",
    "                '--wavebands_list={}'.format(wavebands_list),\n",
    "                '--psf_image_types_list={}'.format(psf_image_types_list),\n",
    "                '--sigma_image_types_list={}'.format(sigma_image_types_list),\n",
    "                '--background_estimate_methods_list={}'.format(background_estimate_methods_list),\n",
    "                '--enlarging_image_factor={}'.format(enlarging_image_factor),\n",
    "                '--enlarging_separation_factor={}'.format(enlarging_separation_factor),\n",
    "                '--pixel_scale={}'.format(pixel_scale),\n",
    "                '--convolution_box_size={}'.format(convolution_box_size),\n",
    "                '--galfit_binary_file={}'.format(galfit_binary_file),\n",
    "                '--target_galaxies_catalogue_suffix={}'.format(target_galaxies_catalogue_suffix),\n",
    "                '--target_galaxies_id_key={}'.format(target_galaxies_id_key),\n",
    "                '--source_galaxies_catalogue_suffix={}'.format(source_galaxies_catalogue_suffix),\n",
    "                '--parameters_table_suffix={}'.format(parameters_table_suffix),\n",
    "                '--sci_images_suffix={}'.format(sci_images_suffix),\n",
    "                '--rms_images_suffix={}'.format(rms_images_suffix),\n",
    "                '--exp_images_suffix={}'.format(exp_images_suffix),\n",
    "                '--seg_images_suffix={}'.format(seg_images_suffix),\n",
    "                '--function={}'.format(function), '--n_cores={}'.format(n_cores)\n",
    "                ])"
   ]
  },
  {
   "cell_type": "markdown",
   "metadata": {},
   "source": [
    "temporary directory are removed only if the code runs successfully. If there is any error, the user should manually delete the temporary directory.\n",
    "\n",
    "The results of the fit are saved in sub-directories of the stamps directory in ./demo_data/macs1149"
   ]
  },
  {
   "cell_type": "code",
   "execution_count": null,
   "metadata": {},
   "outputs": [],
   "source": [
    "mode = 'run-tasks' \n",
    "tasks = '0>24' # number of tasks is equal to the number of combinations from the previous cell\n",
    "h5pytable_folder = './demo_data/h5table/'\n",
    "h5pytable_filename = 'table_galfit_on_stamps_run.h5'\n",
    "temp_dir_path = '/Users/Luca.Tortorelli/morphofit/examples/demo_data/' # here we always need an absolute path\n",
    "files_archive_prefix='galfit_res'\n",
    "target_galaxies_keys='NUMBER,XWIN_IMAGE_f814w,YWIN_IMAGE_f814w,ALPHAWIN_J2000_f814w,DELTAWIN_J2000_f814w,MAG_AUTO,FLUX_RADIUS,FLUX_RADIUS_f814w,SERSIC_INDEX,BWIN_IMAGE,AWIN_IMAGE,THETAWIN_SKY,TOFIT,COMPONENT_NUMBER,LIGHT_PROFILE' # keyword names in the targets catalogue for the properties needed by morphofit\n",
    "source_galaxies_keys='NUMBER,ALPHAWIN_J2000_f814w,DELTAWIN_J2000_f814w,MAG_AUTO,FLUX_RADIUS,SERSIC_INDEX,BWIN_IMAGE,AWIN_IMAGE,THETAWIN_SKY,TOFIT,COMPONENT_NUMBER,LIGHT_PROFILE' # keyword names in the sources catalogue for the properties needed by morphofit\n",
    "display_type_galfit='regular'\n",
    "galfit_options='0'\n",
    "diagnostic_plots='True' # True to save diagnostic plots, False otherwise\n",
    "phot_apertures='3,5,8,10,13,15,18,20,23,25,28,30' # same as those defined when running SExtractor\n",
    "local_or_cluster='local'\n",
    "function = 'main'\n",
    "n_cores = os.cpu_count()\n",
    "\n",
    "subprocess.run(['esub', '../main_functions/main_galfit_stamps.py',\n",
    "                '--mode={}'.format(mode), \n",
    "                '--tasks={}'.format(tasks),\n",
    "                '--h5pytable_folder={}'.format(h5pytable_folder),\n",
    "                '--h5pytable_filename={}'.format(h5pytable_filename),\n",
    "                '--temp_dir_path={}'.format(temp_dir_path),\n",
    "                '--files_archive_prefix={}'.format(files_archive_prefix),\n",
    "                '--target_galaxies_keys={}'.format(target_galaxies_keys),\n",
    "                '--source_galaxies_keys={}'.format(source_galaxies_keys),\n",
    "                '--display_type_galfit={}'.format(display_type_galfit),\n",
    "                '--galfit_options={}'.format(galfit_options),\n",
    "                '--diagnostic_plots={}'.format(diagnostic_plots),\n",
    "                '--phot_apertures={}'.format(phot_apertures),\n",
    "                '--local_or_cluster={}'.format(local_or_cluster),\n",
    "                '--function={}'.format(function), '--n_cores={}'.format(n_cores)\n",
    "                ])"
   ]
  },
  {
   "cell_type": "markdown",
   "metadata": {},
   "source": [
    "### How to combine the results from multiple fit on stamps in a single catalogue"
   ]
  },
  {
   "cell_type": "markdown",
   "metadata": {},
   "source": [
    "These morphofit module creates a single multiband catalogue that contains both the SExtractor and the GALFIT results. Each galaxy has best-fitting parameters from different combinations of psf, sigma image and background. This module combines them into a single weighted average estimate."
   ]
  },
  {
   "cell_type": "code",
   "execution_count": null,
   "metadata": {},
   "outputs": [],
   "source": [
    "mode = 'run' \n",
    "tasks = '0>1'\n",
    "root_path = './demo_data/'\n",
    "h5pytable_folder = './demo_data/h5table/'\n",
    "h5pytable_filename = 'table_masterstamps.h5'\n",
    "telescope_name = 'HST'\n",
    "target_field_names = 'macs1149'\n",
    "wavebands_list = 'f814w,f160w'\n",
    "psf_image_types_list='moffat_psf,observed_psf,pca_psf'\n",
    "sigma_image_types_list='custom_sigma_image,internal_generated_sigma_image'\n",
    "background_estimate_methods_list='background_free_fit,background_fixed_value'\n",
    "target_galaxies_catalogue_suffix='multiband_targets.cat'\n",
    "source_galaxies_catalogue_suffix='multiband_sources.cat'\n",
    "function = 'all'\n",
    "n_cores = 1\n",
    "\n",
    "subprocess.run(['esub', '../main_functions/create_table_for_masterstamps.py',\n",
    "                '--mode={}'.format(mode), \n",
    "                '--tasks={}'.format(tasks), '--root_path={}'.format(root_path),\n",
    "                '--h5pytable_folder={}'.format(h5pytable_folder),\n",
    "                '--h5pytable_filename={}'.format(h5pytable_filename),\n",
    "                '--telescope_name={}'.format(telescope_name),\n",
    "                '--target_field_names={}'.format(target_field_names),\n",
    "                '--wavebands_list={}'.format(wavebands_list),\n",
    "                '--psf_image_types_list={}'.format(psf_image_types_list),\n",
    "                '--sigma_image_types_list={}'.format(sigma_image_types_list),\n",
    "                '--background_estimate_methods_list={}'.format(background_estimate_methods_list),\n",
    "                '--target_galaxies_catalogue_suffix={}'.format(target_galaxies_catalogue_suffix),\n",
    "                '--source_galaxies_catalogue_suffix={}'.format(source_galaxies_catalogue_suffix),\n",
    "                '--function={}'.format(function), '--n_cores={}'.format(n_cores)\n",
    "                ])"
   ]
  },
  {
   "cell_type": "markdown",
   "metadata": {},
   "source": [
    "The results of the combination is saved in ./demo_data/macs1149"
   ]
  },
  {
   "cell_type": "code",
   "execution_count": null,
   "metadata": {},
   "outputs": [],
   "source": [
    "mode = 'run-tasks' \n",
    "tasks = '0>1' # number of tasks is equal to the number of target fields, in this case the cluster m1149\n",
    "h5pytable_folder = './demo_data/h5table/'\n",
    "h5pytable_filename = 'table_masterstamps.h5'\n",
    "temp_dir_path = './demo_data/'\n",
    "galfit_properties_mastertable_suffix='mastertable.fits'\n",
    "source_galaxies_catalogue_id_key = 'NUMBER'\n",
    "galaxy_ids_key = 'NUMBER'\n",
    "light_profiles_key = 'LIGHT_PROFILE'\n",
    "galaxy_components_key = 'COMPONENT_NUMBER'\n",
    "function = 'all'\n",
    "n_cores = 1\n",
    "\n",
    "subprocess.run(['esub', '../main_functions/main_create_masterstamps_catalogue.py',\n",
    "                '--mode={}'.format(mode), \n",
    "                '--tasks={}'.format(tasks),\n",
    "                '--h5pytable_folder={}'.format(h5pytable_folder),\n",
    "                '--h5pytable_filename={}'.format(h5pytable_filename),\n",
    "                '--temp_dir_path={}'.format(temp_dir_path),\n",
    "                '--galfit_properties_mastertable_suffix={}'.format(galfit_properties_mastertable_suffix),\n",
    "                '--source_galaxies_catalogue_id_key={}'.format(source_galaxies_catalogue_id_key),\n",
    "                '--galaxy_ids_key={}'.format(galaxy_ids_key),\n",
    "                '--light_profiles_key={}'.format(light_profiles_key),\n",
    "                '--galaxy_components_key={}'.format(galaxy_components_key),\n",
    "                '--local_or_cluster={}'.format(local_or_cluster),\n",
    "                '--function={}'.format(function), '--n_cores={}'.format(n_cores)\n",
    "                ])"
   ]
  },
  {
   "cell_type": "markdown",
   "metadata": {},
   "source": [
    "Similar steps apply to the fit in regions and on the full image."
   ]
  }
 ],
 "metadata": {
  "kernelspec": {
   "display_name": "Python 3 (ipykernel)",
   "language": "python",
   "name": "python3"
  },
  "language_info": {
   "codemirror_mode": {
    "name": "ipython",
    "version": 3
   },
   "file_extension": ".py",
   "mimetype": "text/x-python",
   "name": "python",
   "nbconvert_exporter": "python",
   "pygments_lexer": "ipython3",
   "version": "3.10.4"
  }
 },
 "nbformat": 4,
 "nbformat_minor": 1
}
