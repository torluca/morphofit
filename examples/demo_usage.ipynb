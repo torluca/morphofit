{
 "cells": [
  {
   "cell_type": "markdown",
   "metadata": {
    "collapsed": true
   },
   "source": [
    "# morphofit example usage notebook"
   ]
  },
  {
   "cell_type": "markdown",
   "metadata": {},
   "source": [
    "In this notebook, we provide examples on how to run morphofit on a set of two simulated HST images mimicking the MACS J1149.5+2223 observational conditions in the Frontier Fields survey in the F814W and F160W wavebands.\n",
    "\n",
    "morphofit is designed to be ran via command-line using esub-epipe. It can also be run in a notebook either by calling the scripts in the `main_functions` folder with `subprocess` or by calling the individual functions or the main function of the scripts in the notebook cells.\n",
    "\n",
    "In order to run it, the user should create a folder named as the `target_name`, e.g. macs1149. All initial and produced data are going to be stored in this folder. The user should also rename images following the naming convention:\n",
    "\n",
    "`telescopename_targetname_waveband_imagetype.fits`\n",
    "\n",
    "e.g. HST_macs1149_f814_drz.fit\n",
    "\n",
    "See the folder `demo_data` for an example."
   ]
  },
  {
   "cell_type": "markdown",
   "metadata": {},
   "source": [
    "__Example of calling the morphofit modules in the `main_functions` folder with the syntax in the `pipeline.yaml` file__"
   ]
  },
  {
   "cell_type": "markdown",
   "metadata": {},
   "source": [
    "__How to use morphofit to run SExtractor in forced photometry mode on all provided images in all wavebands__"
   ]
  },
  {
   "cell_type": "code",
   "execution_count": null,
   "metadata": {},
   "outputs": [],
   "source": [
    "import subprocess\n",
    "import os\n",
    "\n",
    "mode = 'run-tasks' # whether to run the script in serial (run) or in parallel (run-tasks, run-mpi)\n",
    "tasks = '0>1' # total number of jobs to run, e.g. '0>3' is the syntax for running SExtractor on\n",
    "              # three different galaxy clusters. Since we have one cluster example, tasks is just 0>1\n",
    "              # in the case of galfit fit on stamps, the number of tasks is given by \n",
    "              # n_target_galaxies * n_bands * n_combinations_background_sigmaimage_psf\n",
    "root_path = './demo_data/'# Path to root folder where data are stored and where code is run\n",
    "wavebands_list = 'f814w,f160w' # string of comma-separated waveband names\n",
    "h5pytable_folder = './demo_data/h5table/' # path to folder where the hdf5 table with parameters relevant for \n",
    "                                          # morphofit are stored\n",
    "h5pytable_prefix = 'sextractor_run_table' # filename prefix of hdf5 table storing parameters relevant for morphofit \n",
    "telescope_name = 'HST' # name of the telescope/instrument/survey data used\n",
    "target_field_names = 'macs1149' # name of the target to analyse, it has to be the same as targetname\n",
    "sci_images_suffix = 'drz.fits' # it has to be the same as imagetype.fits and represent the suffix with which \n",
    "                               # we define the science image\n",
    "rms_images_suffix = 'rms.fits' # it has to be the same as imagetype.fits and represent the suffix with which \n",
    "                               # we define the root mean square image, if unavailable set it to 'None'\n",
    "exp_images_suffix = 'exp.fits' # it has to be the same as imagetype.fits and represent the suffix with which \n",
    "                               # we define the exposure time image, if unavailable set it to 'None'\n",
    "ext_star_cat_suffix = 'star_positions_f160w.fits' # suffix of the fits table storing the star positions in the image\n",
    "image_archive_prefix = 'images' # filename prefix of the generated tar file containing images\n",
    "resources_archive_prefix = 'res_sextractor_files' # filename prefix of the generated tar file containing res files\n",
    "star_catalogues_path = './demo_data/star_catalogues/'# path to star catalogues folder\n",
    "pixel_scale = 0.060 # pixel scale in arcsec/pixel\n",
    "seeing_initial_guesses = '0.1,0.1' # initial guesses for the seeing FWHM in arcsec, e.g. 0.1 arcsec for HST\n",
    "sextractor_binary_filename = '/opt/homebrew/bin/sex' # path to SExtractor executable\n",
    "# from detect_minarea to sextractor_checkimages_endings, the parameters have the same meaning\n",
    "# of the corresponding SExtractor ones\n",
    "sextractor_resources_path = '../morphofit/res/sextractor/' # path to folder storing SExtractor required files\n",
    "function = 'all' # it can be all, main, check_missing and merge\n",
    "n_cores = os.cpu_count() # number of available CPU for parallel computing\n",
    "\n",
    "subprocess.run(['esub', '../main_functions/create_table_for_sextractor.py', '--mode={}'.format(mode), \n",
    "                '--tasks={}'.format(tasks), '--root_path={}'.format(root_path),\n",
    "                '--wavebands_list={}'.format(wavebands_list),\n",
    "                '--h5pytable_folder={}'.format(h5pytable_folder),\n",
    "                '--h5pytable_prefix={}'.format(h5pytable_prefix),\n",
    "                '--telescope_name={}'.format(telescope_name),\n",
    "                '--target_field_names={}'.format(target_field_names),\n",
    "                '--sci_images_suffix={}'.format(sci_images_suffix),\n",
    "                '--rms_images_suffix={}'.format(rms_images_suffix),\n",
    "                '--exp_images_suffix={}'.format(exp_images_suffix),\n",
    "                '--ext_star_cat_suffix={}'.format(ext_star_cat_suffix),\n",
    "                '--image_archive_prefix={}'.format(image_archive_prefix),\n",
    "                '--resources_archive_prefix={}'.format(resources_archive_prefix),\n",
    "                '--star_catalogues_path={}'.format(star_catalogues_path),\n",
    "                '--pixel_scale={}'.format(pixel_scale), '--seeing_initial_guesses={}'.format(seeing_initial_guesses),\n",
    "                '--detect_minarea=10', '--detect_thresh=1.0', '--analysis_thresh=1.5', '--deblend_nthresh=64',\n",
    "                '--deblend_mincont=0.0001', '--phot_apertures=3,5,10,15,20,25',\n",
    "                '--phot_autoparams=2.5,3.5', '--phot_petroparams=2.0,3.5', '--phot_autoapers=0.0,0.0',\n",
    "                '--phot_fluxfrac=0.5', '--back_size=64', '--back_filtersize=3',\n",
    "                '--sextractor_binary_filename={}'.format(sextractor_binary_filename),\n",
    "                '--sextractor_config_filename=default.sex', '--sextractor_params_filename=default.param',\n",
    "                '--sextractor_filter_filename=gauss_3.0_5x5.conv', '--sextractor_nnw_filename=default.nnw',\n",
    "                '--sextractor_checkimages=SEGMENTATION', '--sextractor_checkimages_endings=seg',\n",
    "                '--sextractor_resources_path={}'.format(sextractor_resources_path),\n",
    "                '--function={}'.format(function), '--n_cores={}'.format(n_cores)\n",
    "                ])\n"
   ]
  },
  {
   "cell_type": "code",
   "execution_count": null,
   "metadata": {},
   "outputs": [],
   "source": [
    "temp_dir_path = './demo_data/' # temporary folders location where morphofit single core jobs are run\n",
    "local_or_cluster = 'local' # it can be either local or cluster, set it to local\n",
    "sextractor_forced_catalogue_suffix = 'forced.cat' # user-defined suffix for the single-band output SExtractor catalogue\n",
    "sextractor_ra_keyword = 'ALPHAWIN_J2000' # right ascension column name to be used to match galaxies across bands\n",
    "sextractor_dec_keyword = 'DELTAWIN_J2000' # declination column name to be used to match galaxies across bands\n",
    "star_catalogue_ra_keyword = 'ra' # right ascension column name to be used to find stars in images and measure \n",
    "                                 # their profile FWHM\n",
    "star_catalogue_dec_keyword = 'dec' # declination column name to be used to find stars in images and measure \n",
    "                                   # their profile FWHM\n",
    "detection_image_suffix = 'detection.fits' # suffix of the generated detection image\n",
    "parameters_table_suffix = 'param_table.fits' # suffix of the fits table storing obtained instrumental and \n",
    "                                             # observational parameters\n",
    "multiband_catalogue_suffix = 'multiband.forced.cat' # user-defined suffix for the multiband output SExtractor catalogue\n",
    "\n",
    "subprocess.run(['esub', '../main_functions/main_sextractor.py', '--mode={}'.format(mode), \n",
    "                '--tasks={}'.format(tasks), '--root_path={}'.format(root_path),\n",
    "                '--h5pytable_folder={}'.format(h5pytable_folder),\n",
    "                '--h5pytable_prefix={}'.format(h5pytable_prefix),\n",
    "                '--image_archive_prefix={}'.format(image_archive_prefix),\n",
    "                '--resources_archive_prefix={}'.format(resources_archive_prefix),\n",
    "                '--temp_dir_path={}'.format(temp_dir_path),\n",
    "                '--local_or_cluster={}'.format(local_or_cluster),\n",
    "                '--sextractor_forced_catalogue_suffix={}'.format(sextractor_forced_catalogue_suffix),\n",
    "                '--sextractor_checkimages_endings=seg',\n",
    "                '--sextractor_ra_keyword={}'.format(sextractor_ra_keyword),\n",
    "                '--sextractor_dec_keyword={}'.format(sextractor_dec_keyword),\n",
    "                '--star_catalogue_ra_keyword={}'.format(star_catalogue_ra_keyword),\n",
    "                '--star_catalogue_dec_keyword={}'.format(star_catalogue_dec_keyword),\n",
    "                '--detection_image_suffix={}'.format(detection_image_suffix),\n",
    "                '--parameters_table_suffix={}'.format(parameters_table_suffix),\n",
    "                '--multiband_catalogue_suffix={}'.format(multiband_catalogue_suffix),\n",
    "                '--function={}'.format(function), '--n_cores={}'.format(n_cores)\n",
    "                ])"
   ]
  },
  {
   "cell_type": "code",
   "execution_count": null,
   "metadata": {},
   "outputs": [],
   "source": []
  }
 ],
 "metadata": {
  "kernelspec": {
   "display_name": "Python 3 (ipykernel)",
   "language": "python",
   "name": "python3"
  },
  "language_info": {
   "codemirror_mode": {
    "name": "ipython",
    "version": 3
   },
   "file_extension": ".py",
   "mimetype": "text/x-python",
   "name": "python",
   "nbconvert_exporter": "python",
   "pygments_lexer": "ipython3",
   "version": "3.10.4"
  }
 },
 "nbformat": 4,
 "nbformat_minor": 1
}
